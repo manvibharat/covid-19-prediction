{
 "metadata": {
  "language_info": {
   "codemirror_mode": {
    "name": "ipython",
    "version": 3
   },
   "file_extension": ".py",
   "mimetype": "text/x-python",
   "name": "python",
   "nbconvert_exporter": "python",
   "pygments_lexer": "ipython3",
   "version": "3.7.6-final"
  },
  "orig_nbformat": 2,
  "kernelspec": {
   "name": "python37664bitmlpy37condab3772312a84b471288a9da4ed4b9b3c9",
   "display_name": "Python 3.7.6 64-bit ('mlpy37': conda)"
  }
 },
 "nbformat": 4,
 "nbformat_minor": 2,
 "cells": [
  {
   "cell_type": "code",
   "execution_count": 1,
   "metadata": {},
   "outputs": [],
   "source": [
    "import pandas as pd \n",
    "import numpy as np \n",
    "import seaborn as sns \n",
    "from matplotlib import pyplot as plt \n",
    "import json\n",
    "from pandas.io.json import json_normalize\n",
    "from sklearn.model_selection import RandomizedSearchCV, GridSearchCV\n",
    "from sklearn import linear_model\n",
    "from sklearn.metrics import mean_squared_error\n",
    "from sklearn import preprocessing\n",
    "from sklearn.model_selection import TimeSeriesSplit\n",
    "from datetime import datetime"
   ]
  },
  {
   "cell_type": "code",
   "execution_count": 17,
   "metadata": {},
   "outputs": [],
   "source": [
    "cases = pd.read_csv('newdata/covid_19_india.csv')"
   ]
  },
  {
   "cell_type": "code",
   "execution_count": 22,
   "metadata": {},
   "outputs": [],
   "source": [
    "cases_statewise = cases.groupby('State/UnionTerritory')"
   ]
  },
  {
   "cell_type": "code",
   "execution_count": 31,
   "metadata": {},
   "outputs": [
    {
     "output_type": "execute_result",
     "data": {
      "text/plain": "array(['Kerala', 'Telengana', 'Delhi', 'Rajasthan', 'Uttar Pradesh',\n       'Haryana', 'Ladakh', 'Tamil Nadu', 'Karnataka', 'Maharashtra',\n       'Punjab', 'Jammu and Kashmir', 'Andhra Pradesh', 'Uttarakhand',\n       'Odisha', 'Puducherry', 'West Bengal', 'Chhattisgarh',\n       'Chandigarh', 'Gujarat', 'Himachal Pradesh', 'Madhya Pradesh',\n       'Bihar', 'Manipur', 'Mizoram', 'Andaman and Nicobar Islands',\n       'Goa', 'Unassigned', 'Assam', 'Jharkhand', 'Arunachal Pradesh',\n       'Tripura', 'Nagaland', 'Meghalaya', 'Dadar Nagar Haveli',\n       'Cases being reassigned to states', 'Sikkim', 'Daman & Diu',\n       'Dadra and Nagar Haveli and Daman and Diu', 'Telangana',\n       'Telangana***', 'Telengana***'], dtype=object)"
     },
     "metadata": {},
     "execution_count": 31
    }
   ],
   "source": [
    "cases['State/UnionTerritory'].unique()"
   ]
  },
  {
   "cell_type": "code",
   "execution_count": 30,
   "metadata": {},
   "outputs": [
    {
     "output_type": "execute_result",
     "data": {
      "text/plain": "Index(['Sno', 'Date', 'Time', 'State/UnionTerritory',\n       'ConfirmedIndianNational', 'ConfirmedForeignNational', 'Cured',\n       'Deaths', 'Confirmed'],\n      dtype='object')"
     },
     "metadata": {},
     "execution_count": 30
    }
   ],
   "source": [
    "cases.columns"
   ]
  },
  {
   "cell_type": "code",
   "execution_count": null,
   "metadata": {},
   "outputs": [],
   "source": []
  }
 ]
}